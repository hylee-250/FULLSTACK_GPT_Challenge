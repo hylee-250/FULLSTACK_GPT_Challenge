{
 "cells": [
  {
   "cell_type": "code",
   "execution_count": 25,
   "metadata": {},
   "outputs": [],
   "source": [
    "from langchain.chat_models import ChatOpenAI\n",
    "from langchain.callbacks import StreamingStdOutCallbackHandler\n",
    "from langchain.schema.runnable import RunnablePassthrough\n",
    "from langchain.memory import ConversationSummaryBufferMemory"
   ]
  },
  {
   "cell_type": "code",
   "execution_count": 26,
   "metadata": {},
   "outputs": [],
   "source": [
    "llm = ChatOpenAI(\n",
    "    temperature=0.1,\n",
    "    model_name=\"gpt-3.5-turbo\",\n",
    "    streaming=True,\n",
    "    callbacks=[\n",
    "        StreamingStdOutCallbackHandler(),\n",
    "    ],\n",
    ")"
   ]
  },
  {
   "cell_type": "code",
   "execution_count": 37,
   "metadata": {},
   "outputs": [],
   "source": [
    "memory = ConversationSummaryBufferMemory(\n",
    "    llm=llm,\n",
    "    max_token_limit=120,\n",
    "    return_messages=True,\n",
    "    )"
   ]
  },
  {
   "cell_type": "code",
   "execution_count": 38,
   "metadata": {},
   "outputs": [],
   "source": [
    "from langchain.prompts.few_shot import FewShotChatMessagePromptTemplate\n",
    "from langchain.prompts import ChatPromptTemplate, MessagesPlaceholder"
   ]
  },
  {
   "cell_type": "code",
   "execution_count": 39,
   "metadata": {},
   "outputs": [],
   "source": [
    "examples = [\n",
    "    {\n",
    "        \"movie\": \"Avengers: Endgame\",\n",
    "        \"answer\": \"🦸‍♂️🧪🕰️\"\n",
    "     },\n",
    "     {\n",
    "        \"movie\": \"The Lion King\",\n",
    "        \"answer\":\"🦁👑🌅\"\n",
    "     },\n",
    "     {\n",
    "        \"movie\": \"Top Gun: Maverick\",\n",
    "        \"answer\": \"🛩️👨‍✈️🔥\"\n",
    "     }\n",
    "]"
   ]
  },
  {
   "cell_type": "code",
   "execution_count": 40,
   "metadata": {},
   "outputs": [],
   "source": [
    "example_prompt = ChatPromptTemplate.from_messages(\n",
    "    [\n",
    "        (\"human\",\"{movie}\"),\n",
    "        (\"ai\",\"{answer}\"),\n",
    "    ],\n",
    ")\n",
    "\n",
    "fewshot_prompt = FewShotChatMessagePromptTemplate(\n",
    "    example_prompt=example_prompt,\n",
    "    examples=examples,\n",
    ")\n",
    "\n",
    "final_prompt = ChatPromptTemplate.from_messages(\n",
    "    [\n",
    "        (\"system\",\"You are a Ph.D degree in Movie. And you are insane at movie.\"),\n",
    "        MessagesPlaceholder(variable_name=\"history\"),\n",
    "        fewshot_prompt,\n",
    "        (\"human\", \"{movie}\"),\n",
    "    ]\n",
    ")"
   ]
  },
  {
   "cell_type": "code",
   "execution_count": 54,
   "metadata": {},
   "outputs": [],
   "source": [
    "def load_memory(_):\n",
    "    return memory.load_memory_variables({})[\"history\"]\n",
    "\n",
    "chain = RunnablePassthrough.assign(history=load_memory) | final_prompt | llm\n",
    "\n",
    "def invoke_chain(movie):\n",
    "    result = chain.invoke({\"movie\":movie})\n",
    "    memory.save_context(\n",
    "        {\"input\": movie},\n",
    "        {\"output\": result.content},\n",
    "    )"
   ]
  },
  {
   "cell_type": "code",
   "execution_count": 55,
   "metadata": {},
   "outputs": [
    {
     "name": "stdout",
     "output_type": "stream",
     "text": [
      "🌊🚣‍♀️🌺The human mentions \"Moana\" and the AI responds with emojis of the ocean, a boat, and a flower. The human then brings up \"The Dark Knight\" and the AI responds with emojis of a bat, a joker, and a city skyline. When the human mentions \"Moana\" again, the AI seems to be connecting the two movies through emojis by referencing the ocean, boat, and flower. The human mentions \"The Dark Knight\" and the AI responds with emojis of a bat, a joker, and a city skyline. The AI responds to \"Moana\" with emojis of the ocean, a boat, and a flower."
     ]
    }
   ],
   "source": [
    "invoke_chain(\"Moana\")"
   ]
  },
  {
   "cell_type": "code",
   "execution_count": 56,
   "metadata": {},
   "outputs": [
    {
     "name": "stdout",
     "output_type": "stream",
     "text": [
      "🦇🃏🌆The human mentions \"Moana\" and the AI responds with emojis of the ocean, a boat, and a flower. The human then brings up \"The Dark Knight\" and the AI responds with emojis of a bat, a joker, and a city skyline. The AI seems to be connecting the two movies through emojis. The human mentions \"The Dark Knight\" again, and the AI responds with emojis of a bat, a joker, and a city skyline. The AI responds to \"Moana\" with emojis of the ocean, a boat, and a flower. When the human mentions \"The Dark Knight,\" the AI responds with emojis of a bat, a joker, and a city skyline."
     ]
    }
   ],
   "source": [
    "invoke_chain(\"The Dark Knight\")"
   ]
  },
  {
   "cell_type": "code",
   "execution_count": 57,
   "metadata": {},
   "outputs": [
    {
     "name": "stdout",
     "output_type": "stream",
     "text": [
      "🚢❤️🌊The human mentions \"Moana\" and the AI responds with emojis of the ocean, a boat, and a flower. The AI seems to be connecting the two movies through emojis."
     ]
    }
   ],
   "source": [
    "invoke_chain(\"Titanic\")"
   ]
  },
  {
   "cell_type": "code",
   "execution_count": 58,
   "metadata": {},
   "outputs": [
    {
     "name": "stdout",
     "output_type": "stream",
     "text": [
      "❄️👸⛄The human mentions \"Moana\" and the AI responds with emojis of the ocean, a boat, and a flower. The AI seems to be connecting the two movies through emojis. When the human brings up \"The Dark Knight,\" the AI responds with emojis of a bat, a joker, and a city skyline."
     ]
    }
   ],
   "source": [
    "invoke_chain(\"The Frozen\")"
   ]
  },
  {
   "cell_type": "code",
   "execution_count": null,
   "metadata": {},
   "outputs": [],
   "source": []
  }
 ],
 "metadata": {
  "kernelspec": {
   "display_name": "gpt",
   "language": "python",
   "name": "python3"
  },
  "language_info": {
   "codemirror_mode": {
    "name": "ipython",
    "version": 3
   },
   "file_extension": ".py",
   "mimetype": "text/x-python",
   "name": "python",
   "nbconvert_exporter": "python",
   "pygments_lexer": "ipython3",
   "version": "3.11.9"
  }
 },
 "nbformat": 4,
 "nbformat_minor": 2
}

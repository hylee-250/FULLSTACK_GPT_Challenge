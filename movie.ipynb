{
 "cells": [
  {
   "cell_type": "code",
   "execution_count": 7,
   "metadata": {},
   "outputs": [],
   "source": [
    "from langchain.chat_models import ChatOpenAI\n",
    "from langchain.prompts.few_shot import FewShotPromptTemplate\n",
    "from langchain.callbacks import StreamingStdOutCallbackHandler\n",
    "from langchain.prompts import PromptTemplate"
   ]
  },
  {
   "cell_type": "code",
   "execution_count": 8,
   "metadata": {},
   "outputs": [],
   "source": [
    "chat = ChatOpenAI(\n",
    "    temperature=0.1,\n",
    "    streaming=True,\n",
    "    callbacks=[\n",
    "        StreamingStdOutCallbackHandler(),\n",
    "    ],\n",
    ")"
   ]
  },
  {
   "cell_type": "markdown",
   "metadata": {},
   "source": [
    "**Avengers: Endgame (2019)**\n",
    "\n",
    "• **Director**: Anthony Russo, Joe Russo\n",
    "\n",
    "• **Main Cast**: Robert Downey Jr., Chris Evans, Mark Ruffalo, Chris Hemsworth, Scarlett Johansson\n",
    "\n",
    "• **Budget**: Approximately $350 million\n",
    "\n",
    "• **Box Office Revenue**: Approximately $2.79 billion worldwide\n",
    "\n",
    "• **Genre**: Superhero, Action, Sci-Fi\n",
    "\n",
    "• **Brief Synopsis**: After Thanos wipes out half of all life in the universe, the surviving Avengers come together for one final battle to undo the devastation and bring back their lost loved ones.\n",
    "\n",
    "**The Lion King (2019)**\n",
    "\n",
    "• **Director**: Jon Favreau\n",
    "\n",
    "• **Main Cast**: Donald Glover, Beyoncé, James Earl Jones, Chiwetel Ejiofor\n",
    "\n",
    "• **Budget**: Approximately $260 million\n",
    "\n",
    "• **Box Office Revenue**: Approximately $1.65 billion worldwide\n",
    "\n",
    "• **Genre**: Animation, Drama, Adventure\n",
    "\n",
    "• **Brief Synopsis**: Young lion Simba flees his kingdom after the death of his father, Mufasa, but later embraces his destiny and returns to reclaim his throne.\n",
    "\n",
    "**Top Gun: Maverick (2022)**\n",
    "\n",
    "• **Director**: Joseph Kosinski\n",
    "\n",
    "• **Main Cast**: Tom Cruise, Miles Teller, Jennifer Connelly\n",
    "\n",
    "• **Budget**: Approximately $170 million\n",
    "\n",
    "• **Box Office Revenue**: Approximately $1.48 billion worldwide\n",
    "\n",
    "• **Genre**: Action, Drama\n",
    "\n",
    "• **Brief Synopsis**: Legendary pilot Maverick returns as a flight instructor after 30 years to train a new generation of pilots while confronting past traumas."
   ]
  },
  {
   "cell_type": "code",
   "execution_count": 9,
   "metadata": {},
   "outputs": [],
   "source": [
    "examples = [\n",
    "    {\n",
    "        \"question\": \"Tell me about the movie, Avengers: Endgame\",\n",
    "        \"answer\": \"\"\"\n",
    "        Director: Anthony Russo, Joe Russo\n",
    "        Main Cast: Robert Downey Jr., Chris Evans, Mark Ruffalo, Chris Hemsworth, Scarlett Johansson\n",
    "        Budget: Approximately $350 million\n",
    "        Box Office Revenue: Approximately $2.79 billion worldwide\n",
    "        Genre: Superhero, Action, Sci-Fi\n",
    "        Brief Synopsis: After Thanos wipes out half of all life in the universe, the surviving Avengers come together for one final battle to undo the devastation and bring back their lost loved ones.\n",
    "        \"\"\"    \n",
    "     },\n",
    "     {\n",
    "        \"question\": \"Tell me about the movie, the Lion King\",\n",
    "        \"answer\":\"\"\"\n",
    "        Director: Jon Favreau\n",
    "        Main Cast: Donald Glover, Beyoncé, James Earl Jones, Chiwetel Ejiofor\n",
    "        Budget: Approximately $260 million\n",
    "        Box Office Revenue: Approximately $1.65 billion worldwide\n",
    "        Genre: Animation, Drama, Adventure\n",
    "        Brief Synopsis: Young lion Simba flees his kingdom after the death of his father, Mufasa, but later embraces his destiny and returns to reclaim his throne.\n",
    "        \"\"\"\n",
    "     },\n",
    "     {\n",
    "        \"question\": \"Tell me about the movie, Top Gun: Maverick\",\n",
    "        \"answer\": \"\"\"\n",
    "        Director: Joseph Kosinski\n",
    "        Main Cast: Tom Cruise, Miles Teller, Jennifer Connelly\n",
    "        Budget: Approximately $170 million\n",
    "        Box Office Revenue: Approximately $1.48 billion worldwide\n",
    "        Genre: Action, Drama\n",
    "        Brief Synopsis: Legendary pilot Maverick returns as a flight instructor after 30 years to train a new generation of pilots while confronting past traumas.\n",
    "        \"\"\"\n",
    "     }\n",
    "]"
   ]
  },
  {
   "cell_type": "code",
   "execution_count": 12,
   "metadata": {},
   "outputs": [
    {
     "name": "stdout",
     "output_type": "stream",
     "text": [
      "AI:\n",
      "        Director: Christopher Nolan\n",
      "        Main Cast: Christian Bale, Heath Ledger, Aaron Eckhart, Michael Caine, Gary Oldman\n",
      "        Budget: Approximately $185 million\n",
      "        Box Office Revenue: Approximately $1.005 billion worldwide\n",
      "        Genre: Superhero, Action, Crime, Drama\n",
      "        Brief Synopsis: Batman faces his greatest challenge yet as he battles the Joker, a criminal mastermind who wreaks havoc on Gotham City with his chaotic and unpredictable nature."
     ]
    },
    {
     "data": {
      "text/plain": [
       "AIMessage(content='AI:\\n        Director: Christopher Nolan\\n        Main Cast: Christian Bale, Heath Ledger, Aaron Eckhart, Michael Caine, Gary Oldman\\n        Budget: Approximately $185 million\\n        Box Office Revenue: Approximately $1.005 billion worldwide\\n        Genre: Superhero, Action, Crime, Drama\\n        Brief Synopsis: Batman faces his greatest challenge yet as he battles the Joker, a criminal mastermind who wreaks havoc on Gotham City with his chaotic and unpredictable nature.', response_metadata={'finish_reason': 'stop'}, id='run-48f1f69b-f32c-4b30-b885-6387929a136d-0')"
      ]
     },
     "execution_count": 12,
     "metadata": {},
     "output_type": "execute_result"
    }
   ],
   "source": [
    "example_prompt = PromptTemplate.from_template(\"Human:{question}\\nAI:{answer}\")\n",
    "\n",
    "prompt = FewShotPromptTemplate(\n",
    "    example_prompt=example_prompt,\n",
    "    examples=examples,\n",
    "    suffix=\"Tell me about the movie {movie}\",\n",
    "    input_variables=[\"movie\"],\n",
    ")\n",
    "\n",
    "chain = prompt | chat\n",
    "\n",
    "chain.invoke({\"movie\":\"Dark Knight\"})"
   ]
  },
  {
   "cell_type": "code",
   "execution_count": 13,
   "metadata": {},
   "outputs": [
    {
     "name": "stdout",
     "output_type": "stream",
     "text": [
      "AI:\n",
      "        Director: Ron Clements, John Musker\n",
      "        Main Cast: Auli'i Cravalho, Dwayne Johnson\n",
      "        Budget: Approximately $150 million\n",
      "        Box Office Revenue: Approximately $690 million worldwide\n",
      "        Genre: Animation, Adventure, Comedy\n",
      "        Brief Synopsis: Moana, a spirited teenager and daughter of a chief, sets sail on a daring mission to save her people and discovers her own identity along the way with the help of the demigod Maui."
     ]
    },
    {
     "data": {
      "text/plain": [
       "AIMessage(content=\"AI:\\n        Director: Ron Clements, John Musker\\n        Main Cast: Auli'i Cravalho, Dwayne Johnson\\n        Budget: Approximately $150 million\\n        Box Office Revenue: Approximately $690 million worldwide\\n        Genre: Animation, Adventure, Comedy\\n        Brief Synopsis: Moana, a spirited teenager and daughter of a chief, sets sail on a daring mission to save her people and discovers her own identity along the way with the help of the demigod Maui.\", response_metadata={'finish_reason': 'stop'}, id='run-19dda706-9159-4cbe-ac86-59477adadd60-0')"
      ]
     },
     "execution_count": 13,
     "metadata": {},
     "output_type": "execute_result"
    }
   ],
   "source": [
    "chain.invoke({\"movie\":\"Moana\"})"
   ]
  },
  {
   "cell_type": "code",
   "execution_count": 16,
   "metadata": {},
   "outputs": [],
   "source": [
    "from langchain.prompts.few_shot import FewShotChatMessagePromptTemplate\n",
    "from langchain.prompts import ChatMessagePromptTemplate, ChatPromptTemplate"
   ]
  },
  {
   "cell_type": "code",
   "execution_count": 15,
   "metadata": {},
   "outputs": [],
   "source": [
    "examples = [\n",
    "    {\n",
    "        \"movie\": \"Avengers: Endgame\",\n",
    "        \"answer\": \"\"\"\n",
    "        Director: Anthony Russo, Joe Russo\n",
    "        Main Cast: Robert Downey Jr., Chris Evans, Mark Ruffalo, Chris Hemsworth, Scarlett Johansson\n",
    "        Budget: Approximately $350 million\n",
    "        Box Office Revenue: Approximately $2.79 billion worldwide\n",
    "        Genre: Superhero, Action, Sci-Fi\n",
    "        Brief Synopsis: After Thanos wipes out half of all life in the universe, the surviving Avengers come together for one final battle to undo the devastation and bring back their lost loved ones.\n",
    "        \"\"\"    \n",
    "     },\n",
    "     {\n",
    "        \"movie\": \"The Lion King\",\n",
    "        \"answer\":\"\"\"\n",
    "        Director: Jon Favreau\n",
    "        Main Cast: Donald Glover, Beyoncé, James Earl Jones, Chiwetel Ejiofor\n",
    "        Budget: Approximately $260 million\n",
    "        Box Office Revenue: Approximately $1.65 billion worldwide\n",
    "        Genre: Animation, Drama, Adventure\n",
    "        Brief Synopsis: Young lion Simba flees his kingdom after the death of his father, Mufasa, but later embraces his destiny and returns to reclaim his throne.\n",
    "        \"\"\"\n",
    "     },\n",
    "     {\n",
    "        \"movie\": \"Top Gun: Maverick\",\n",
    "        \"answer\": \"\"\"\n",
    "        Director: Joseph Kosinski\n",
    "        Main Cast: Tom Cruise, Miles Teller, Jennifer Connelly\n",
    "        Budget: Approximately $170 million\n",
    "        Box Office Revenue: Approximately $1.48 billion worldwide\n",
    "        Genre: Action, Drama\n",
    "        Brief Synopsis: Legendary pilot Maverick returns as a flight instructor after 30 years to train a new generation of pilots while confronting past traumas.\n",
    "        \"\"\"\n",
    "     }\n",
    "]"
   ]
  },
  {
   "cell_type": "code",
   "execution_count": 19,
   "metadata": {},
   "outputs": [
    {
     "name": "stdout",
     "output_type": "stream",
     "text": [
      "Director: Christopher Nolan\n",
      "Main Cast: Christian Bale, Heath Ledger, Aaron Eckhart, Maggie Gyllenhaal\n",
      "Budget: Approximately $185 million\n",
      "Box Office Revenue: Approximately $1 billion worldwide\n",
      "Genre: Superhero, Crime, Drama\n",
      "Brief Synopsis: Batman faces his greatest challenge yet as he battles the Joker, a sadistic criminal mastermind who wreaks havoc on Gotham City. Ledger's portrayal of the Joker is widely acclaimed and considered one of the greatest performances in cinematic history."
     ]
    },
    {
     "data": {
      "text/plain": [
       "AIMessage(content=\"Director: Christopher Nolan\\nMain Cast: Christian Bale, Heath Ledger, Aaron Eckhart, Maggie Gyllenhaal\\nBudget: Approximately $185 million\\nBox Office Revenue: Approximately $1 billion worldwide\\nGenre: Superhero, Crime, Drama\\nBrief Synopsis: Batman faces his greatest challenge yet as he battles the Joker, a sadistic criminal mastermind who wreaks havoc on Gotham City. Ledger's portrayal of the Joker is widely acclaimed and considered one of the greatest performances in cinematic history.\", response_metadata={'finish_reason': 'stop'}, id='run-91ff5f30-5e14-4470-8412-8b1e7f335ff9-0')"
      ]
     },
     "execution_count": 19,
     "metadata": {},
     "output_type": "execute_result"
    }
   ],
   "source": [
    "example_prompt = ChatPromptTemplate.from_messages(\n",
    "    [\n",
    "        (\"human\",\"Do you know about the movie {movie}?\"),\n",
    "        (\"ai\",\"{answer}\"),\n",
    "    ],\n",
    ")\n",
    "\n",
    "fewshot_prompt = FewShotChatMessagePromptTemplate(\n",
    "    example_prompt=example_prompt,\n",
    "    examples=examples,\n",
    ")\n",
    "\n",
    "final_prompt = ChatPromptTemplate.from_messages(\n",
    "    [\n",
    "        (\"system\",\"You are a Ph.D degree in Movie. And you are insane at movie.\"),\n",
    "        fewshot_prompt,\n",
    "        (\"human\", \"Do you know about the movie {movie}?\"),\n",
    "    ]\n",
    ")\n",
    "\n",
    "final_chain = final_prompt | chat\n",
    "\n",
    "final_chain.invoke({\"movie\":\"The Dark Knight\"})"
   ]
  },
  {
   "cell_type": "code",
   "execution_count": 20,
   "metadata": {},
   "outputs": [
    {
     "name": "stdout",
     "output_type": "stream",
     "text": [
      "\n",
      "        Director: Ron Clements, John Musker\n",
      "        Main Cast: Auli'i Cravalho, Dwayne Johnson\n",
      "        Budget: Approximately $150 million\n",
      "        Box Office Revenue: Approximately $690 million worldwide\n",
      "        Genre: Animation, Adventure, Comedy\n",
      "        Brief Synopsis: Moana, a spirited young girl, sets sail on a daring mission to save her people and discovers her own identity as a wayfinder along the way.\n",
      "        "
     ]
    },
    {
     "data": {
      "text/plain": [
       "AIMessage(content=\"\\n        Director: Ron Clements, John Musker\\n        Main Cast: Auli'i Cravalho, Dwayne Johnson\\n        Budget: Approximately $150 million\\n        Box Office Revenue: Approximately $690 million worldwide\\n        Genre: Animation, Adventure, Comedy\\n        Brief Synopsis: Moana, a spirited young girl, sets sail on a daring mission to save her people and discovers her own identity as a wayfinder along the way.\\n        \", response_metadata={'finish_reason': 'stop'}, id='run-ca4db000-87b0-4902-afe0-a2d2ed918b4b-0')"
      ]
     },
     "execution_count": 20,
     "metadata": {},
     "output_type": "execute_result"
    }
   ],
   "source": [
    "final_chain.invoke({\"movie\":\"Moana\"})"
   ]
  },
  {
   "cell_type": "code",
   "execution_count": null,
   "metadata": {},
   "outputs": [],
   "source": []
  }
 ],
 "metadata": {
  "kernelspec": {
   "display_name": "gpt",
   "language": "python",
   "name": "python3"
  },
  "language_info": {
   "codemirror_mode": {
    "name": "ipython",
    "version": 3
   },
   "file_extension": ".py",
   "mimetype": "text/x-python",
   "name": "python",
   "nbconvert_exporter": "python",
   "pygments_lexer": "ipython3",
   "version": "3.11.9"
  }
 },
 "nbformat": 4,
 "nbformat_minor": 2
}

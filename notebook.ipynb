{
 "cells": [
  {
   "cell_type": "code",
   "execution_count": 11,
   "metadata": {},
   "outputs": [],
   "source": [
    "from langchain.chat_models import ChatOpenAI\n",
    "from langchain.prompts import ChatPromptTemplate\n",
    "from langchain.callbacks import StreamingStdOutCallbackHandler\n",
    "\n",
    "chat = ChatOpenAI(\n",
    "    temperature=0.1,\n",
    "    streaming=True,\n",
    "    callbacks=[\n",
    "        StreamingStdOutCallbackHandler(),\n",
    "    ],\n",
    "    )"
   ]
  },
  {
   "cell_type": "code",
   "execution_count": 12,
   "metadata": {},
   "outputs": [],
   "source": [
    "poetry_template = ChatPromptTemplate.from_messages(\n",
    "    [\n",
    "        (\"system\", \"You are a wonderful poet. And you can write a poetry about a programming language {programming_lang} \"),\n",
    "        (\"human\",\"Write me a poetry about {programming_lang}\"),\n",
    "    ]\n",
    ")\n",
    "\n",
    "description_template = ChatPromptTemplate.from_messages(\n",
    "    [\n",
    "        (\"system\", \"You are a wonderful poetry reader. And you can describe a poetry about a programming language. \\\n",
    "         When you do not know about the meaning of the poetry. Please say 'I don't know about the meaning'\"),\n",
    "        (\"human\",\"{poetry}\"),\n",
    "    ]\n",
    ")"
   ]
  },
  {
   "cell_type": "code",
   "execution_count": null,
   "metadata": {},
   "outputs": [],
   "source": [
    "# from langchain.schema import BaseOutputParser\n",
    "\n",
    "# class EnterOutputParser(BaseOutputParser):\n",
    "#     def parse(self, text):\n",
    "#         items = text.strip().split(\"\\n\")\n",
    "#         return items"
   ]
  },
  {
   "cell_type": "code",
   "execution_count": 13,
   "metadata": {},
   "outputs": [],
   "source": [
    "poetry_chain = poetry_template | chat\n",
    "\n",
    "description_chain = description_template | chat\n",
    "\n",
    "\n",
    "# poetry_chain.invoke({\"programming_lang\":\"Python\"})"
   ]
  },
  {
   "cell_type": "code",
   "execution_count": null,
   "metadata": {},
   "outputs": [
    {
     "data": {
      "text/plain": [
       "AIMessage(content=\"In the land of code, where languages reign,\\nThere's one that stands out, never in vain.\\nPython, the serpent of simplicity,\\nWith its elegance and versatility.\\n\\nIts syntax is clean, like a gentle breeze,\\nNo curly braces, just spaces to please.\\nIndentation is key, in Python's domain,\\nFor readability and clarity to maintain.\\n\\nFrom web development to data science's might,\\nPython shines bright, a guiding light.\\nWith libraries galore, like NumPy and SciPy,\\nCoding in Python, oh my, oh my!\\n\\nSo here's to Python, the language so grand,\\nIn the world of programming, it takes a stand.\\nA tool for beginners and experts alike,\\nPython, the language we all hold dear, day and night.\", response_metadata={'token_usage': {'completion_tokens': 152, 'prompt_tokens': 61, 'total_tokens': 213, 'prompt_tokens_details': {'cached_tokens': 0, 'audio_tokens': 0}, 'completion_tokens_details': {'reasoning_tokens': 0, 'audio_tokens': 0, 'accepted_prediction_tokens': 0, 'rejected_prediction_tokens': 0}}, 'model_name': 'gpt-3.5-turbo', 'system_fingerprint': None, 'finish_reason': 'stop', 'logprobs': None}, id='run-bcb6dbf6-4204-45a3-93a8-4ad586df2f08-0')"
      ]
     },
     "execution_count": 10,
     "metadata": {},
     "output_type": "execute_result"
    }
   ],
   "source": [
    "# description_chain.invoke({\"programming_lang\":\"Python\"})"
   ]
  },
  {
   "cell_type": "code",
   "execution_count": 15,
   "metadata": {},
   "outputs": [
    {
     "name": "stdout",
     "output_type": "stream",
     "text": [
      "In the realm of code, where languages reside,\n",
      "There's one that stands out, with elegance and pride.\n",
      "Python, the serpent, sleek and refined,\n",
      "Its syntax so clean, its power defined.\n",
      "\n",
      "With indentation as its guiding light,\n",
      "Python dances gracefully, day and night.\n",
      "From web development to data science's might,\n",
      "It weaves its magic, shining so bright.\n",
      "\n",
      "No curly braces clutter its domain,\n",
      "Just simple lines, like a soothing refrain.\n",
      "Readability and simplicity, its claim to fame,\n",
      "Python whispers softly, but leaves a lasting flame.\n",
      "\n",
      "Libraries galore, for every need,\n",
      "NumPy, Pandas, and more, indeed.\n",
      "Machine learning, AI, and beyond,\n",
      "Python leads the way, forever fond.\n",
      "\n",
      "So here's to Python, the language divine,\n",
      "A poet's muse, a coder's lifeline.\n",
      "In the world of code, it truly shines,\n",
      "Python, the language that forever entwines.You have a wonderful way with words, capturing the essence of Python programming language in a poetic form. The poem beautifully describes Python as a sleek and refined language, known for its clean syntax and power. It highlights Python's unique feature of using indentation for code structure, emphasizing its grace and versatility in various fields like web development and data science.\n",
      "\n",
      "The absence of curly braces in Python is likened to a soothing melody, emphasizing the language's focus on readability and simplicity. The mention of popular libraries like NumPy and Pandas showcases Python's extensive ecosystem and its applications in machine learning, AI, and beyond.\n",
      "\n",
      "Overall, the poem celebrates Python as a divine language that serves as both a poet's muse and a coder's lifeline, shining brightly in the world of programming and leaving a lasting impact on those who work with it."
     ]
    },
    {
     "data": {
      "text/plain": [
       "AIMessage(content=\"You have a wonderful way with words, capturing the essence of Python programming language in a poetic form. The poem beautifully describes Python as a sleek and refined language, known for its clean syntax and power. It highlights Python's unique feature of using indentation for code structure, emphasizing its grace and versatility in various fields like web development and data science.\\n\\nThe absence of curly braces in Python is likened to a soothing melody, emphasizing the language's focus on readability and simplicity. The mention of popular libraries like NumPy and Pandas showcases Python's extensive ecosystem and its applications in machine learning, AI, and beyond.\\n\\nOverall, the poem celebrates Python as a divine language that serves as both a poet's muse and a coder's lifeline, shining brightly in the world of programming and leaving a lasting impact on those who work with it.\", response_metadata={'finish_reason': 'stop'}, id='run-615e955c-382a-480f-935c-bd427f53c130-0')"
      ]
     },
     "execution_count": 15,
     "metadata": {},
     "output_type": "execute_result"
    }
   ],
   "source": [
    "final_chain = {\"poetry\" :poetry_chain} | description_chain\n",
    "\n",
    "final_chain.invoke({\"programming_lang\": \"Python\"})"
   ]
  },
  {
   "cell_type": "code",
   "execution_count": null,
   "metadata": {},
   "outputs": [],
   "source": []
  }
 ],
 "metadata": {
  "kernelspec": {
   "display_name": "gpt",
   "language": "python",
   "name": "python3"
  },
  "language_info": {
   "codemirror_mode": {
    "name": "ipython",
    "version": 3
   },
   "file_extension": ".py",
   "mimetype": "text/x-python",
   "name": "python",
   "nbconvert_exporter": "python",
   "pygments_lexer": "ipython3",
   "version": "3.11.9"
  }
 },
 "nbformat": 4,
 "nbformat_minor": 2
}
